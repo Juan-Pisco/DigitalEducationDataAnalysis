{
 "cells": [
  {
   "cell_type": "markdown",
   "source": [
    "# COVID-19 Impact on digital learning - Learn Platform\n",
    "This notebook is a complete solution for a Kaggle Data Analysis competition where the main goal is to understand what is the main state of digital learning (2020) and how this learning methodology is affected by district demographics, broadband access, and more factors.\n",
    "## Thought process\n"
   ],
   "metadata": {
    "collapsed": false,
    "pycharm": {
     "name": "#%% md\n"
    }
   }
  },
  {
   "cell_type": "markdown",
   "source": [
    "## Import Statements\n",
    "- Pandas -> Hi"
   ],
   "metadata": {
    "collapsed": false,
    "pycharm": {
     "name": "#%% md\n"
    }
   }
  },
  {
   "cell_type": "code",
   "execution_count": 88,
   "metadata": {
    "pycharm": {
     "name": "#%%\n"
    }
   },
   "outputs": [],
   "source": [
    "import pandas as pd\n",
    "import numpy as np\n",
    "import os\n",
    "import matplotlib.pyplot as plt"
   ]
  },
  {
   "cell_type": "markdown",
   "source": [
    "## Exploring the engagement datasets"
   ],
   "metadata": {
    "collapsed": false,
    "pycharm": {
     "name": "#%% md\n"
    }
   }
  },
  {
   "cell_type": "code",
   "execution_count": 24,
   "outputs": [],
   "source": [
    "columns = ['time', 'lp_id', 'pct_access', 'engagement_index', 'district_id']"
   ],
   "metadata": {
    "collapsed": false,
    "pycharm": {
     "name": "#%%\n"
    }
   }
  },
  {
   "cell_type": "code",
   "execution_count": 47,
   "outputs": [],
   "source": [
    "all_districts_engagement = pd.DataFrame(columns=columns)"
   ],
   "metadata": {
    "collapsed": false,
    "pycharm": {
     "name": "#%%\n"
    }
   }
  },
  {
   "cell_type": "code",
   "execution_count": 48,
   "outputs": [],
   "source": [
    "engagement_data_path = 'dataset/engagement_data/'\n",
    "all_districts_files = os.listdir(engagement_data_path)\n",
    "for filename in all_districts_files:\n",
    "    district_df = pd.read_csv(engagement_data_path + filename)\n",
    "    district_df['district_id'] = int(filename[:-4])\n",
    "    all_districts_engagement = pd.concat([all_districts_engagement,district_df])"
   ],
   "metadata": {
    "collapsed": false,
    "pycharm": {
     "name": "#%%\n"
    }
   }
  },
  {
   "cell_type": "code",
   "execution_count": 59,
   "outputs": [
    {
     "name": "stdout",
     "output_type": "stream",
     "text": [
      "Nan values in TIME column are 0, which is 0.00% of the total rows\n",
      "Nan values in LP_ID column are 541, which is 0.00% of the total rows\n",
      "Nan values in PCT_ACCESS column are 13447, which is 0.06% of the total rows\n",
      "Nan values in ENGAGEMENT_INDEX column are 5378409, which is 24.09% of the total rows\n",
      "Nan values in DISTRICT_ID column are 0, which is 0.00% of the total rows\n"
     ]
    }
   ],
   "source": [
    "n_rows = all_districts_engagement.shape[0]\n",
    "for column in all_districts_engagement.columns:\n",
    "    nans = all_districts_engagement[column].isna().sum()\n",
    "    print(f'Nan values in {column.upper()} column are {nans}, which is {(nans/n_rows)*100:.2f}% of the total rows')"
   ],
   "metadata": {
    "collapsed": false,
    "pycharm": {
     "name": "#%%\n"
    }
   }
  },
  {
   "cell_type": "code",
   "execution_count": 108,
   "outputs": [
    {
     "data": {
      "text/plain": "              time    lp_id pct_access engagement_index district_id\n0       2020-01-01  28504.0       0.07            10.81        9463\n1       2020-01-01  94058.0        0.0              NaN        9463\n2       2020-01-01  33562.0       0.02             1.44        9463\n3       2020-01-01  55278.0        0.0              NaN        9463\n4       2020-01-01  98001.0       0.01             0.72        9463\n...            ...      ...        ...              ...         ...\n175969  2020-12-31  69429.0        0.0              NaN        9463\n175970  2020-12-31  70740.0       0.02              2.6        9463\n175971  2020-12-31  31218.0       0.01             6.33        9463\n175972  2020-12-31  35348.0        0.0              NaN        9463\n175973  2020-12-31  84007.0        0.0              NaN        9463\n\n[175974 rows x 5 columns]",
      "text/html": "<div>\n<style scoped>\n    .dataframe tbody tr th:only-of-type {\n        vertical-align: middle;\n    }\n\n    .dataframe tbody tr th {\n        vertical-align: top;\n    }\n\n    .dataframe thead th {\n        text-align: right;\n    }\n</style>\n<table border=\"1\" class=\"dataframe\">\n  <thead>\n    <tr style=\"text-align: right;\">\n      <th></th>\n      <th>time</th>\n      <th>lp_id</th>\n      <th>pct_access</th>\n      <th>engagement_index</th>\n      <th>district_id</th>\n    </tr>\n  </thead>\n  <tbody>\n    <tr>\n      <th>0</th>\n      <td>2020-01-01</td>\n      <td>28504.0</td>\n      <td>0.07</td>\n      <td>10.81</td>\n      <td>9463</td>\n    </tr>\n    <tr>\n      <th>1</th>\n      <td>2020-01-01</td>\n      <td>94058.0</td>\n      <td>0.0</td>\n      <td>NaN</td>\n      <td>9463</td>\n    </tr>\n    <tr>\n      <th>2</th>\n      <td>2020-01-01</td>\n      <td>33562.0</td>\n      <td>0.02</td>\n      <td>1.44</td>\n      <td>9463</td>\n    </tr>\n    <tr>\n      <th>3</th>\n      <td>2020-01-01</td>\n      <td>55278.0</td>\n      <td>0.0</td>\n      <td>NaN</td>\n      <td>9463</td>\n    </tr>\n    <tr>\n      <th>4</th>\n      <td>2020-01-01</td>\n      <td>98001.0</td>\n      <td>0.01</td>\n      <td>0.72</td>\n      <td>9463</td>\n    </tr>\n    <tr>\n      <th>...</th>\n      <td>...</td>\n      <td>...</td>\n      <td>...</td>\n      <td>...</td>\n      <td>...</td>\n    </tr>\n    <tr>\n      <th>175969</th>\n      <td>2020-12-31</td>\n      <td>69429.0</td>\n      <td>0.0</td>\n      <td>NaN</td>\n      <td>9463</td>\n    </tr>\n    <tr>\n      <th>175970</th>\n      <td>2020-12-31</td>\n      <td>70740.0</td>\n      <td>0.02</td>\n      <td>2.6</td>\n      <td>9463</td>\n    </tr>\n    <tr>\n      <th>175971</th>\n      <td>2020-12-31</td>\n      <td>31218.0</td>\n      <td>0.01</td>\n      <td>6.33</td>\n      <td>9463</td>\n    </tr>\n    <tr>\n      <th>175972</th>\n      <td>2020-12-31</td>\n      <td>35348.0</td>\n      <td>0.0</td>\n      <td>NaN</td>\n      <td>9463</td>\n    </tr>\n    <tr>\n      <th>175973</th>\n      <td>2020-12-31</td>\n      <td>84007.0</td>\n      <td>0.0</td>\n      <td>NaN</td>\n      <td>9463</td>\n    </tr>\n  </tbody>\n</table>\n<p>175974 rows × 5 columns</p>\n</div>"
     },
     "execution_count": 108,
     "metadata": {},
     "output_type": "execute_result"
    }
   ],
   "source": [
    "all_districts_engagement[all_districts_engagement[\"district_id\"] == 9463]"
   ],
   "metadata": {
    "collapsed": false,
    "pycharm": {
     "name": "#%%\n"
    }
   }
  },
  {
   "cell_type": "markdown",
   "source": [],
   "metadata": {
    "collapsed": false,
    "pycharm": {
     "name": "#%% md\n"
    }
   }
  },
  {
   "cell_type": "code",
   "execution_count": 103,
   "outputs": [
    {
     "data": {
      "text/plain": "95731.0    78295\n99916.0    77304\n26488.0    76214\n28504.0    75814\n33185.0    73778\n72758.0    72800\n32213.0    72321\n13496.0    71122\n69827.0    70979\n69863.0    70566\nName: lp_id, dtype: int64"
     },
     "execution_count": 103,
     "metadata": {},
     "output_type": "execute_result"
    }
   ],
   "source": [
    "all_districts_engagement['lp_id'].value_counts(dropna=False).head(10)"
   ],
   "metadata": {
    "collapsed": false,
    "pycharm": {
     "name": "#%%\n"
    }
   }
  },
  {
   "cell_type": "code",
   "execution_count": 99,
   "outputs": [
    {
     "data": {
      "text/plain": "22324190"
     },
     "execution_count": 99,
     "metadata": {},
     "output_type": "execute_result"
    }
   ],
   "source": [
    "all_districts_engagement.shape[0]"
   ],
   "metadata": {
    "collapsed": false,
    "pycharm": {
     "name": "#%%\n"
    }
   }
  },
  {
   "cell_type": "markdown",
   "source": [
    "## Exploring the districts info dataset"
   ],
   "metadata": {
    "collapsed": false,
    "pycharm": {
     "name": "#%% md\n"
    }
   }
  },
  {
   "cell_type": "code",
   "execution_count": 109,
   "outputs": [],
   "source": [
    "districts_dataset = pd.read_csv(\"dataset/districts_info.csv\")"
   ],
   "metadata": {
    "collapsed": false,
    "pycharm": {
     "name": "#%%\n"
    }
   }
  },
  {
   "cell_type": "code",
   "execution_count": 112,
   "outputs": [
    {
     "data": {
      "text/plain": "    district_id           state  locale pct_black/hispanic pct_free/reduced  \\\n0          8815        Illinois  Suburb           [0, 0.2[         [0, 0.2[   \n1          2685             NaN     NaN                NaN              NaN   \n2          4921            Utah  Suburb           [0, 0.2[       [0.2, 0.4[   \n3          3188             NaN     NaN                NaN              NaN   \n4          2238             NaN     NaN                NaN              NaN   \n5          5987       Wisconsin  Suburb           [0, 0.2[         [0, 0.2[   \n6          3710            Utah  Suburb           [0, 0.2[       [0.4, 0.6[   \n7          7177  North Carolina  Suburb         [0.2, 0.4[       [0.2, 0.4[   \n8          9812            Utah  Suburb           [0, 0.2[       [0.2, 0.4[   \n9          6584  North Carolina   Rural         [0.4, 0.6[       [0.6, 0.8[   \n10         1044        Missouri  Suburb           [0, 0.2[         [0, 0.2[   \n11         7457      Washington    City         [0.4, 0.6[       [0.4, 0.6[   \n12         1904     Connecticut   Rural           [0, 0.2[         [0, 0.2[   \n13         5527   Massachusetts  Suburb           [0, 0.2[              NaN   \n14         2257        New York   Rural           [0, 0.2[       [0.2, 0.4[   \n15         7614            Utah    City         [0.2, 0.4[       [0.2, 0.4[   \n16         4808         Indiana    City           [0.8, 1[         [0.8, 1[   \n17         8515             NaN     NaN                NaN              NaN   \n18         1877        Illinois   Rural           [0, 0.2[         [0, 0.2[   \n19         2339             NaN     NaN                NaN              NaN   \n20         2779        Illinois   Rural           [0, 0.2[         [0, 0.2[   \n21         8328            Utah    Town           [0, 0.2[       [0.4, 0.6[   \n22         8539     Connecticut  Suburb         [0.2, 0.4[       [0.4, 0.6[   \n23         9120             NaN     NaN                NaN              NaN   \n24         9043        Illinois  Suburb           [0.8, 1[         [0.8, 1[   \n25         4666             NaN     NaN                NaN              NaN   \n26         1549        Virginia  Suburb           [0, 0.2[       [0.2, 0.4[   \n27         4051        Missouri  Suburb           [0, 0.2[       [0.2, 0.4[   \n28         7305   Massachusetts  Suburb           [0, 0.2[              NaN   \n29         1131             NaN     NaN                NaN              NaN   \n\n   county_connections_ratio    pp_total_raw  \n0                 [0.18, 1[  [14000, 16000[  \n1                       NaN             NaN  \n2                 [0.18, 1[    [6000, 8000[  \n3                       NaN             NaN  \n4                       NaN             NaN  \n5                 [0.18, 1[  [10000, 12000[  \n6                 [0.18, 1[    [6000, 8000[  \n7                 [0.18, 1[   [8000, 10000[  \n8                 [0.18, 1[    [6000, 8000[  \n9                 [0.18, 1[   [8000, 10000[  \n10                      NaN  [10000, 12000[  \n11                [0.18, 1[  [12000, 14000[  \n12                [0.18, 1[             NaN  \n13                      NaN  [16000, 18000[  \n14                      NaN  [20000, 22000[  \n15                [0.18, 1[   [8000, 10000[  \n16                [0.18, 1[   [8000, 10000[  \n17                      NaN             NaN  \n18                [0.18, 1[  [12000, 14000[  \n19                      NaN             NaN  \n20                [0.18, 1[  [10000, 12000[  \n21                [0.18, 1[  [10000, 12000[  \n22                [0.18, 1[             NaN  \n23                      NaN             NaN  \n24                [0.18, 1[  [12000, 14000[  \n25                      NaN             NaN  \n26                [0.18, 1[  [10000, 12000[  \n27                [0.18, 1[  [10000, 12000[  \n28                [0.18, 1[  [14000, 16000[  \n29                      NaN             NaN  ",
      "text/html": "<div>\n<style scoped>\n    .dataframe tbody tr th:only-of-type {\n        vertical-align: middle;\n    }\n\n    .dataframe tbody tr th {\n        vertical-align: top;\n    }\n\n    .dataframe thead th {\n        text-align: right;\n    }\n</style>\n<table border=\"1\" class=\"dataframe\">\n  <thead>\n    <tr style=\"text-align: right;\">\n      <th></th>\n      <th>district_id</th>\n      <th>state</th>\n      <th>locale</th>\n      <th>pct_black/hispanic</th>\n      <th>pct_free/reduced</th>\n      <th>county_connections_ratio</th>\n      <th>pp_total_raw</th>\n    </tr>\n  </thead>\n  <tbody>\n    <tr>\n      <th>0</th>\n      <td>8815</td>\n      <td>Illinois</td>\n      <td>Suburb</td>\n      <td>[0, 0.2[</td>\n      <td>[0, 0.2[</td>\n      <td>[0.18, 1[</td>\n      <td>[14000, 16000[</td>\n    </tr>\n    <tr>\n      <th>1</th>\n      <td>2685</td>\n      <td>NaN</td>\n      <td>NaN</td>\n      <td>NaN</td>\n      <td>NaN</td>\n      <td>NaN</td>\n      <td>NaN</td>\n    </tr>\n    <tr>\n      <th>2</th>\n      <td>4921</td>\n      <td>Utah</td>\n      <td>Suburb</td>\n      <td>[0, 0.2[</td>\n      <td>[0.2, 0.4[</td>\n      <td>[0.18, 1[</td>\n      <td>[6000, 8000[</td>\n    </tr>\n    <tr>\n      <th>3</th>\n      <td>3188</td>\n      <td>NaN</td>\n      <td>NaN</td>\n      <td>NaN</td>\n      <td>NaN</td>\n      <td>NaN</td>\n      <td>NaN</td>\n    </tr>\n    <tr>\n      <th>4</th>\n      <td>2238</td>\n      <td>NaN</td>\n      <td>NaN</td>\n      <td>NaN</td>\n      <td>NaN</td>\n      <td>NaN</td>\n      <td>NaN</td>\n    </tr>\n    <tr>\n      <th>5</th>\n      <td>5987</td>\n      <td>Wisconsin</td>\n      <td>Suburb</td>\n      <td>[0, 0.2[</td>\n      <td>[0, 0.2[</td>\n      <td>[0.18, 1[</td>\n      <td>[10000, 12000[</td>\n    </tr>\n    <tr>\n      <th>6</th>\n      <td>3710</td>\n      <td>Utah</td>\n      <td>Suburb</td>\n      <td>[0, 0.2[</td>\n      <td>[0.4, 0.6[</td>\n      <td>[0.18, 1[</td>\n      <td>[6000, 8000[</td>\n    </tr>\n    <tr>\n      <th>7</th>\n      <td>7177</td>\n      <td>North Carolina</td>\n      <td>Suburb</td>\n      <td>[0.2, 0.4[</td>\n      <td>[0.2, 0.4[</td>\n      <td>[0.18, 1[</td>\n      <td>[8000, 10000[</td>\n    </tr>\n    <tr>\n      <th>8</th>\n      <td>9812</td>\n      <td>Utah</td>\n      <td>Suburb</td>\n      <td>[0, 0.2[</td>\n      <td>[0.2, 0.4[</td>\n      <td>[0.18, 1[</td>\n      <td>[6000, 8000[</td>\n    </tr>\n    <tr>\n      <th>9</th>\n      <td>6584</td>\n      <td>North Carolina</td>\n      <td>Rural</td>\n      <td>[0.4, 0.6[</td>\n      <td>[0.6, 0.8[</td>\n      <td>[0.18, 1[</td>\n      <td>[8000, 10000[</td>\n    </tr>\n    <tr>\n      <th>10</th>\n      <td>1044</td>\n      <td>Missouri</td>\n      <td>Suburb</td>\n      <td>[0, 0.2[</td>\n      <td>[0, 0.2[</td>\n      <td>NaN</td>\n      <td>[10000, 12000[</td>\n    </tr>\n    <tr>\n      <th>11</th>\n      <td>7457</td>\n      <td>Washington</td>\n      <td>City</td>\n      <td>[0.4, 0.6[</td>\n      <td>[0.4, 0.6[</td>\n      <td>[0.18, 1[</td>\n      <td>[12000, 14000[</td>\n    </tr>\n    <tr>\n      <th>12</th>\n      <td>1904</td>\n      <td>Connecticut</td>\n      <td>Rural</td>\n      <td>[0, 0.2[</td>\n      <td>[0, 0.2[</td>\n      <td>[0.18, 1[</td>\n      <td>NaN</td>\n    </tr>\n    <tr>\n      <th>13</th>\n      <td>5527</td>\n      <td>Massachusetts</td>\n      <td>Suburb</td>\n      <td>[0, 0.2[</td>\n      <td>NaN</td>\n      <td>NaN</td>\n      <td>[16000, 18000[</td>\n    </tr>\n    <tr>\n      <th>14</th>\n      <td>2257</td>\n      <td>New York</td>\n      <td>Rural</td>\n      <td>[0, 0.2[</td>\n      <td>[0.2, 0.4[</td>\n      <td>NaN</td>\n      <td>[20000, 22000[</td>\n    </tr>\n    <tr>\n      <th>15</th>\n      <td>7614</td>\n      <td>Utah</td>\n      <td>City</td>\n      <td>[0.2, 0.4[</td>\n      <td>[0.2, 0.4[</td>\n      <td>[0.18, 1[</td>\n      <td>[8000, 10000[</td>\n    </tr>\n    <tr>\n      <th>16</th>\n      <td>4808</td>\n      <td>Indiana</td>\n      <td>City</td>\n      <td>[0.8, 1[</td>\n      <td>[0.8, 1[</td>\n      <td>[0.18, 1[</td>\n      <td>[8000, 10000[</td>\n    </tr>\n    <tr>\n      <th>17</th>\n      <td>8515</td>\n      <td>NaN</td>\n      <td>NaN</td>\n      <td>NaN</td>\n      <td>NaN</td>\n      <td>NaN</td>\n      <td>NaN</td>\n    </tr>\n    <tr>\n      <th>18</th>\n      <td>1877</td>\n      <td>Illinois</td>\n      <td>Rural</td>\n      <td>[0, 0.2[</td>\n      <td>[0, 0.2[</td>\n      <td>[0.18, 1[</td>\n      <td>[12000, 14000[</td>\n    </tr>\n    <tr>\n      <th>19</th>\n      <td>2339</td>\n      <td>NaN</td>\n      <td>NaN</td>\n      <td>NaN</td>\n      <td>NaN</td>\n      <td>NaN</td>\n      <td>NaN</td>\n    </tr>\n    <tr>\n      <th>20</th>\n      <td>2779</td>\n      <td>Illinois</td>\n      <td>Rural</td>\n      <td>[0, 0.2[</td>\n      <td>[0, 0.2[</td>\n      <td>[0.18, 1[</td>\n      <td>[10000, 12000[</td>\n    </tr>\n    <tr>\n      <th>21</th>\n      <td>8328</td>\n      <td>Utah</td>\n      <td>Town</td>\n      <td>[0, 0.2[</td>\n      <td>[0.4, 0.6[</td>\n      <td>[0.18, 1[</td>\n      <td>[10000, 12000[</td>\n    </tr>\n    <tr>\n      <th>22</th>\n      <td>8539</td>\n      <td>Connecticut</td>\n      <td>Suburb</td>\n      <td>[0.2, 0.4[</td>\n      <td>[0.4, 0.6[</td>\n      <td>[0.18, 1[</td>\n      <td>NaN</td>\n    </tr>\n    <tr>\n      <th>23</th>\n      <td>9120</td>\n      <td>NaN</td>\n      <td>NaN</td>\n      <td>NaN</td>\n      <td>NaN</td>\n      <td>NaN</td>\n      <td>NaN</td>\n    </tr>\n    <tr>\n      <th>24</th>\n      <td>9043</td>\n      <td>Illinois</td>\n      <td>Suburb</td>\n      <td>[0.8, 1[</td>\n      <td>[0.8, 1[</td>\n      <td>[0.18, 1[</td>\n      <td>[12000, 14000[</td>\n    </tr>\n    <tr>\n      <th>25</th>\n      <td>4666</td>\n      <td>NaN</td>\n      <td>NaN</td>\n      <td>NaN</td>\n      <td>NaN</td>\n      <td>NaN</td>\n      <td>NaN</td>\n    </tr>\n    <tr>\n      <th>26</th>\n      <td>1549</td>\n      <td>Virginia</td>\n      <td>Suburb</td>\n      <td>[0, 0.2[</td>\n      <td>[0.2, 0.4[</td>\n      <td>[0.18, 1[</td>\n      <td>[10000, 12000[</td>\n    </tr>\n    <tr>\n      <th>27</th>\n      <td>4051</td>\n      <td>Missouri</td>\n      <td>Suburb</td>\n      <td>[0, 0.2[</td>\n      <td>[0.2, 0.4[</td>\n      <td>[0.18, 1[</td>\n      <td>[10000, 12000[</td>\n    </tr>\n    <tr>\n      <th>28</th>\n      <td>7305</td>\n      <td>Massachusetts</td>\n      <td>Suburb</td>\n      <td>[0, 0.2[</td>\n      <td>NaN</td>\n      <td>[0.18, 1[</td>\n      <td>[14000, 16000[</td>\n    </tr>\n    <tr>\n      <th>29</th>\n      <td>1131</td>\n      <td>NaN</td>\n      <td>NaN</td>\n      <td>NaN</td>\n      <td>NaN</td>\n      <td>NaN</td>\n      <td>NaN</td>\n    </tr>\n  </tbody>\n</table>\n</div>"
     },
     "execution_count": 112,
     "metadata": {},
     "output_type": "execute_result"
    }
   ],
   "source": [
    "districts_dataset.head(30)"
   ],
   "metadata": {
    "collapsed": false,
    "pycharm": {
     "name": "#%%\n"
    }
   }
  },
  {
   "cell_type": "code",
   "execution_count": null,
   "outputs": [],
   "source": [
    "[14000, 16000["
   ],
   "metadata": {
    "collapsed": false,
    "pycharm": {
     "name": "#%%\n"
    }
   }
  }
 ],
 "metadata": {
  "kernelspec": {
   "display_name": "Python 3 (ipykernel)",
   "language": "python",
   "name": "python3"
  },
  "language_info": {
   "codemirror_mode": {
    "name": "ipython",
    "version": 3
   },
   "file_extension": ".py",
   "mimetype": "text/x-python",
   "name": "python",
   "nbconvert_exporter": "python",
   "pygments_lexer": "ipython3",
   "version": "3.8.10"
  }
 },
 "nbformat": 4,
 "nbformat_minor": 1
}